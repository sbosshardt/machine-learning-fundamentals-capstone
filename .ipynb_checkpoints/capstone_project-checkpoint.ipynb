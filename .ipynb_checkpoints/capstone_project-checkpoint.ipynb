{
 "cells": [
  {
   "cell_type": "markdown",
   "metadata": {},
   "source": [
    "# Capstone Project\n",
    "\n",
    "## Imports, load the dataframe."
   ]
  },
  {
   "cell_type": "code",
   "execution_count": 2,
   "metadata": {},
   "outputs": [],
   "source": [
    "import pandas as pd\n",
    "import numpy as np\n",
    "from matplotlib import pyplot as plt\n",
    "\n",
    "df = pd.read_csv(\"profiles.csv\")"
   ]
  },
  {
   "cell_type": "markdown",
   "metadata": {},
   "source": [
    "## Explore the data"
   ]
  },
  {
   "cell_type": "code",
   "execution_count": 2,
   "metadata": {},
   "outputs": [
    {
     "data": {
      "text/plain": [
       "0                 transportation\n",
       "1           hospitality / travel\n",
       "2                            NaN\n",
       "3                        student\n",
       "4    artistic / musical / writer\n",
       "Name: job, dtype: object"
      ]
     },
     "execution_count": 2,
     "metadata": {},
     "output_type": "execute_result"
    }
   ],
   "source": [
    "df.job.head()"
   ]
  },
  {
   "cell_type": "code",
   "execution_count": 12,
   "metadata": {},
   "outputs": [
    {
     "data": {
      "text/html": [
       "<div>\n",
       "<style scoped>\n",
       "    .dataframe tbody tr th:only-of-type {\n",
       "        vertical-align: middle;\n",
       "    }\n",
       "\n",
       "    .dataframe tbody tr th {\n",
       "        vertical-align: top;\n",
       "    }\n",
       "\n",
       "    .dataframe thead th {\n",
       "        text-align: right;\n",
       "    }\n",
       "</style>\n",
       "<table border=\"1\" class=\"dataframe\">\n",
       "  <thead>\n",
       "    <tr style=\"text-align: right;\">\n",
       "      <th></th>\n",
       "      <th>age</th>\n",
       "      <th>body_type</th>\n",
       "      <th>diet</th>\n",
       "      <th>drinks</th>\n",
       "      <th>drugs</th>\n",
       "      <th>education</th>\n",
       "      <th>essay0</th>\n",
       "      <th>essay1</th>\n",
       "      <th>essay2</th>\n",
       "      <th>essay3</th>\n",
       "      <th>essay4</th>\n",
       "      <th>essay5</th>\n",
       "      <th>essay6</th>\n",
       "      <th>essay7</th>\n",
       "      <th>essay8</th>\n",
       "      <th>essay9</th>\n",
       "      <th>ethnicity</th>\n",
       "      <th>height</th>\n",
       "      <th>income</th>\n",
       "      <th>job</th>\n",
       "      <th>last_online</th>\n",
       "      <th>location</th>\n",
       "      <th>offspring</th>\n",
       "      <th>orientation</th>\n",
       "      <th>pets</th>\n",
       "      <th>religion</th>\n",
       "      <th>sex</th>\n",
       "      <th>sign</th>\n",
       "      <th>smokes</th>\n",
       "      <th>speaks</th>\n",
       "      <th>status</th>\n",
       "    </tr>\n",
       "  </thead>\n",
       "  <tbody>\n",
       "    <tr>\n",
       "      <th>0</th>\n",
       "      <td>22</td>\n",
       "      <td>a little extra</td>\n",
       "      <td>strictly anything</td>\n",
       "      <td>socially</td>\n",
       "      <td>never</td>\n",
       "      <td>working on college/university</td>\n",
       "      <td>about me:&lt;br /&gt;\\n&lt;br /&gt;\\ni would love to think that i was some some kind of intellectual:\\neither the dumbest smart guy, or the smartest dumb guy. can't say i\\ncan tell the difference. i love to t...</td>\n",
       "      <td>currently working as an international agent for a freight\\nforwarding company. import, export, domestic you know the\\nworks.&lt;br /&gt;\\nonline classes and trying to better myself in my free time. perh...</td>\n",
       "      <td>making people laugh.&lt;br /&gt;\\nranting about a good salting.&lt;br /&gt;\\nfinding simplicity in complexity, and complexity in simplicity.</td>\n",
       "      <td>the way i look. i am a six foot half asian, half caucasian mutt. it\\nmakes it tough not to notice me, and for me to blend in.</td>\n",
       "      <td>books:&lt;br /&gt;\\nabsurdistan, the republic, of mice and men (only book that made me\\nwant to cry), catcher in the rye, the prince.&lt;br /&gt;\\n&lt;br /&gt;\\nmovies:&lt;br /&gt;\\ngladiator, operation valkyrie, the pro...</td>\n",
       "      <td>food.&lt;br /&gt;\\nwater.&lt;br /&gt;\\ncell phone.&lt;br /&gt;\\nshelter.</td>\n",
       "      <td>duality and humorous things</td>\n",
       "      <td>trying to find someone to hang out with. i am down for anything\\nexcept a club.</td>\n",
       "      <td>i am new to california and looking for someone to wisper my secrets\\nto.</td>\n",
       "      <td>you want to be swept off your feet!&lt;br /&gt;\\nyou are tired of the norm.&lt;br /&gt;\\nyou want to catch a coffee or a bite.&lt;br /&gt;\\nor if you want to talk philosophy.</td>\n",
       "      <td>asian, white</td>\n",
       "      <td>75.0</td>\n",
       "      <td>-1</td>\n",
       "      <td>transportation</td>\n",
       "      <td>2012-06-28-20-30</td>\n",
       "      <td>south san francisco, california</td>\n",
       "      <td>doesn&amp;rsquo;t have kids, but might want them</td>\n",
       "      <td>straight</td>\n",
       "      <td>likes dogs and likes cats</td>\n",
       "      <td>agnosticism and very serious about it</td>\n",
       "      <td>m</td>\n",
       "      <td>gemini</td>\n",
       "      <td>sometimes</td>\n",
       "      <td>english</td>\n",
       "      <td>single</td>\n",
       "    </tr>\n",
       "    <tr>\n",
       "      <th>1</th>\n",
       "      <td>35</td>\n",
       "      <td>average</td>\n",
       "      <td>mostly other</td>\n",
       "      <td>often</td>\n",
       "      <td>sometimes</td>\n",
       "      <td>working on space camp</td>\n",
       "      <td>i am a chef: this is what that means.&lt;br /&gt;\\n1. i am a workaholic.&lt;br /&gt;\\n2. i love to cook regardless of whether i am at work.&lt;br /&gt;\\n3. i love to drink and eat foods that are probably really bad...</td>\n",
       "      <td>dedicating everyday to being an unbelievable badass.</td>\n",
       "      <td>being silly. having ridiculous amonts of fun wherever. being a\\nsmart ass. ohh and i can cook. ;)</td>\n",
       "      <td>NaN</td>\n",
       "      <td>i am die hard christopher moore fan. i don't really watch a lot of\\ntv unless there is humor involved. i am kind of stuck on 90's\\nalternative music. i am pretty much a fan of everything though......</td>\n",
       "      <td>delicious porkness in all of its glories.&lt;br /&gt;\\nmy big ass doughboy's sinking into 15 new inches.&lt;br /&gt;\\nmy overly resilient liver.&lt;br /&gt;\\na good sharp knife.&lt;br /&gt;\\nmy ps3... it plays blurays to...</td>\n",
       "      <td>NaN</td>\n",
       "      <td>NaN</td>\n",
       "      <td>i am very open and will share just about anything.</td>\n",
       "      <td>NaN</td>\n",
       "      <td>white</td>\n",
       "      <td>70.0</td>\n",
       "      <td>80000</td>\n",
       "      <td>hospitality / travel</td>\n",
       "      <td>2012-06-29-21-41</td>\n",
       "      <td>oakland, california</td>\n",
       "      <td>doesn&amp;rsquo;t have kids, but might want them</td>\n",
       "      <td>straight</td>\n",
       "      <td>likes dogs and likes cats</td>\n",
       "      <td>agnosticism but not too serious about it</td>\n",
       "      <td>m</td>\n",
       "      <td>cancer</td>\n",
       "      <td>no</td>\n",
       "      <td>english (fluently), spanish (poorly), french (poorly)</td>\n",
       "      <td>single</td>\n",
       "    </tr>\n",
       "    <tr>\n",
       "      <th>2</th>\n",
       "      <td>38</td>\n",
       "      <td>thin</td>\n",
       "      <td>anything</td>\n",
       "      <td>socially</td>\n",
       "      <td>NaN</td>\n",
       "      <td>graduated from masters program</td>\n",
       "      <td>i'm not ashamed of much, but writing public text on an online\\ndating site makes me pleasantly uncomfortable. i'll try to be as\\nearnest as possible in the noble endeavor of standing naked before\\...</td>\n",
       "      <td>i make nerdy software for musicians, artists, and experimenters to\\nindulge in their own weirdness, but i like to spend time away from\\nthe computer when working on my artwork (which is typically ...</td>\n",
       "      <td>improvising in different contexts. alternating between being\\npresent and decidedly outside of a moment, or trying to hold both\\nat once. rambling intellectual conversations that hold said\\nconver...</td>\n",
       "      <td>my large jaw and large glasses are the physical things people\\ncomment on the most. when sufficiently stimulated, i have an\\nunmistakable cackle of a laugh. after that, it goes in more\\ndirections...</td>\n",
       "      <td>okay this is where the cultural matrix gets so specific, it's like\\nbeing in the crosshairs.&lt;br /&gt;\\n&lt;br /&gt;\\nfor what it's worth, i find myself reading more non-fiction than\\nfiction. it's usually ...</td>\n",
       "      <td>movement&lt;br /&gt;\\nconversation&lt;br /&gt;\\ncreation&lt;br /&gt;\\ncontemplation&lt;br /&gt;\\ntouch&lt;br /&gt;\\nhumor</td>\n",
       "      <td>NaN</td>\n",
       "      <td>viewing. listening. dancing. talking. drinking. performing.</td>\n",
       "      <td>when i was five years old, i was known as \"the boogerman\".</td>\n",
       "      <td>you are bright, open, intense, silly, ironic, critical, caring,\\ngenerous, looking for an exploration, rather than finding \"a match\"\\nof some predetermined qualities.&lt;br /&gt;\\n&lt;br /&gt;\\ni'm currently ...</td>\n",
       "      <td>NaN</td>\n",
       "      <td>68.0</td>\n",
       "      <td>-1</td>\n",
       "      <td>NaN</td>\n",
       "      <td>2012-06-27-09-10</td>\n",
       "      <td>san francisco, california</td>\n",
       "      <td>NaN</td>\n",
       "      <td>straight</td>\n",
       "      <td>has cats</td>\n",
       "      <td>NaN</td>\n",
       "      <td>m</td>\n",
       "      <td>pisces but it doesn&amp;rsquo;t matter</td>\n",
       "      <td>no</td>\n",
       "      <td>english, french, c++</td>\n",
       "      <td>available</td>\n",
       "    </tr>\n",
       "    <tr>\n",
       "      <th>3</th>\n",
       "      <td>23</td>\n",
       "      <td>thin</td>\n",
       "      <td>vegetarian</td>\n",
       "      <td>socially</td>\n",
       "      <td>NaN</td>\n",
       "      <td>working on college/university</td>\n",
       "      <td>i work in a library and go to school. . .</td>\n",
       "      <td>reading things written by old dead people</td>\n",
       "      <td>playing synthesizers and organizing books according to the library\\nof congress classification system</td>\n",
       "      <td>socially awkward but i do my best</td>\n",
       "      <td>bataille, celine, beckett. . .&lt;br /&gt;\\nlynch, jarmusch, r.w. fassbender. . .&lt;br /&gt;\\ntwin peaks &amp;amp; fishing w/ john&lt;br /&gt;\\njoy division, throbbing gristle, cabaret voltaire. . .&lt;br /&gt;\\nvegetarian ...</td>\n",
       "      <td>NaN</td>\n",
       "      <td>cats and german philosophy</td>\n",
       "      <td>NaN</td>\n",
       "      <td>NaN</td>\n",
       "      <td>you feel so inclined.</td>\n",
       "      <td>white</td>\n",
       "      <td>71.0</td>\n",
       "      <td>20000</td>\n",
       "      <td>student</td>\n",
       "      <td>2012-06-28-14-22</td>\n",
       "      <td>berkeley, california</td>\n",
       "      <td>doesn&amp;rsquo;t want kids</td>\n",
       "      <td>straight</td>\n",
       "      <td>likes cats</td>\n",
       "      <td>NaN</td>\n",
       "      <td>m</td>\n",
       "      <td>pisces</td>\n",
       "      <td>no</td>\n",
       "      <td>english, german (poorly)</td>\n",
       "      <td>single</td>\n",
       "    </tr>\n",
       "    <tr>\n",
       "      <th>4</th>\n",
       "      <td>29</td>\n",
       "      <td>athletic</td>\n",
       "      <td>NaN</td>\n",
       "      <td>socially</td>\n",
       "      <td>never</td>\n",
       "      <td>graduated from college/university</td>\n",
       "      <td>hey how's it going? currently vague on the profile i know, more to\\ncome soon. looking to meet new folks outside of my circle of\\nfriends. i'm pretty responsive on the reply tip, feel free to drop...</td>\n",
       "      <td>work work work work + play</td>\n",
       "      <td>creating imagery to look at:&lt;br /&gt;\\nhttp://bagsbrown.blogspot.com/&lt;br /&gt;\\nhttp://stayruly.blogspot.com/</td>\n",
       "      <td>i smile a lot and my inquisitive nature</td>\n",
       "      <td>music: bands, rappers, musicians&lt;br /&gt;\\nat the moment: thee oh sees.&lt;br /&gt;\\nforever: wu-tang&lt;br /&gt;\\nbooks: artbooks for days&lt;br /&gt;\\naudiobooks: my collection, thick (thanks audible)&lt;br /&gt;\\nshows: ...</td>\n",
       "      <td>NaN</td>\n",
       "      <td>NaN</td>\n",
       "      <td>NaN</td>\n",
       "      <td>NaN</td>\n",
       "      <td>NaN</td>\n",
       "      <td>asian, black, other</td>\n",
       "      <td>66.0</td>\n",
       "      <td>-1</td>\n",
       "      <td>artistic / musical / writer</td>\n",
       "      <td>2012-06-27-21-26</td>\n",
       "      <td>san francisco, california</td>\n",
       "      <td>NaN</td>\n",
       "      <td>straight</td>\n",
       "      <td>likes dogs and likes cats</td>\n",
       "      <td>NaN</td>\n",
       "      <td>m</td>\n",
       "      <td>aquarius</td>\n",
       "      <td>no</td>\n",
       "      <td>english</td>\n",
       "      <td>single</td>\n",
       "    </tr>\n",
       "    <tr>\n",
       "      <th>5</th>\n",
       "      <td>29</td>\n",
       "      <td>average</td>\n",
       "      <td>mostly anything</td>\n",
       "      <td>socially</td>\n",
       "      <td>NaN</td>\n",
       "      <td>graduated from college/university</td>\n",
       "      <td>i'm an australian living in san francisco, but don't hold that\\nagainst me. i spend most of my days trying to build cool stuff for\\nmy company. i speak mandarin and have been known to bust out\\nch...</td>\n",
       "      <td>building awesome stuff. figuring out what's important. having\\nadventures. looking for treasure.</td>\n",
       "      <td>imagining random shit. laughing at aforementioned random shit.\\nbeing goofy. articulating what i think and feel. convincing people\\ni'm right. admitting when i'm wrong.&lt;br /&gt;\\n&lt;br /&gt;\\ni'm also pre...</td>\n",
       "      <td>i have a big smile. i also get asked if i'm wearing blue-coloured\\ncontacts (no).</td>\n",
       "      <td>books: to kill a mockingbird, lord of the rings, 1984, the farseer\\ntrilogy.&lt;br /&gt;\\n&lt;br /&gt;\\nmusic: the beatles, frank sinatra, john mayer, jason mraz,\\ndeadmau5, andrew bayer, everything on anjuna...</td>\n",
       "      <td>like everyone else, i love my friends and family, and need hugs,\\nhuman contact, water and sunshine. let's take that as given.&lt;br /&gt;\\n&lt;br /&gt;\\n1. something to build&lt;br /&gt;\\n2. something to sing&lt;br /...</td>\n",
       "      <td>what my contribution to the world is going to be and/or should be.\\nand what's for breakfast. i love breakfast.</td>\n",
       "      <td>out with my friends!</td>\n",
       "      <td>i cried on my first day at school because a bird shat on my head.\\ntrue story.</td>\n",
       "      <td>you're awesome.</td>\n",
       "      <td>white</td>\n",
       "      <td>67.0</td>\n",
       "      <td>-1</td>\n",
       "      <td>computer / hardware / software</td>\n",
       "      <td>2012-06-29-19-18</td>\n",
       "      <td>san francisco, california</td>\n",
       "      <td>doesn&amp;rsquo;t have kids, but might want them</td>\n",
       "      <td>straight</td>\n",
       "      <td>likes cats</td>\n",
       "      <td>atheism</td>\n",
       "      <td>m</td>\n",
       "      <td>taurus</td>\n",
       "      <td>no</td>\n",
       "      <td>english (fluently), chinese (okay)</td>\n",
       "      <td>single</td>\n",
       "    </tr>\n",
       "    <tr>\n",
       "      <th>6</th>\n",
       "      <td>32</td>\n",
       "      <td>fit</td>\n",
       "      <td>strictly anything</td>\n",
       "      <td>socially</td>\n",
       "      <td>never</td>\n",
       "      <td>graduated from college/university</td>\n",
       "      <td>life is about the little things. i love to laugh. it's easy to do\\nwhen one can find beauty and humor in the ugly. this perspective\\nmakes for a more gratifying life. it's a gift. we are here to p...</td>\n",
       "      <td>digging up buried treasure</td>\n",
       "      <td>frolicking&lt;br /&gt;\\nwitty banter&lt;br /&gt;\\nusing my camera to extract sums of a whole and share my perspective\\nwith the world in hopes of opening up theirs&lt;br /&gt;\\nbeing amused by things most people wo...</td>\n",
       "      <td>i am the last unicorn</td>\n",
       "      <td>i like books. ones with pictures. reading them is great too. where\\ndo people find the time? i spend more time with other people not\\nreading. i collect books. they sit neatly on my bookshelves.&lt;b...</td>\n",
       "      <td>laughter&lt;br /&gt;\\namazing people in my life&lt;br /&gt;\\ncolor&lt;br /&gt;\\ncuriosity&lt;br /&gt;\\nmusic and rhythm&lt;br /&gt;\\na good pair of sunglasses</td>\n",
       "      <td>synchronicity&lt;br /&gt;\\n&lt;br /&gt;\\nthere is this whole other realm where the fabrics of our life\\nstories intersect as they dance and play in a magical burst of\\nenergy. this realm doesn't need you to b...</td>\n",
       "      <td>plotting to take over the world with my army of segway riding\\npandas and fire breathing kittens</td>\n",
       "      <td>my typical friday night</td>\n",
       "      <td>NaN</td>\n",
       "      <td>white, other</td>\n",
       "      <td>65.0</td>\n",
       "      <td>-1</td>\n",
       "      <td>NaN</td>\n",
       "      <td>2012-06-25-20-45</td>\n",
       "      <td>san francisco, california</td>\n",
       "      <td>NaN</td>\n",
       "      <td>straight</td>\n",
       "      <td>likes dogs and likes cats</td>\n",
       "      <td>NaN</td>\n",
       "      <td>f</td>\n",
       "      <td>virgo</td>\n",
       "      <td>NaN</td>\n",
       "      <td>english</td>\n",
       "      <td>single</td>\n",
       "    </tr>\n",
       "    <tr>\n",
       "      <th>7</th>\n",
       "      <td>31</td>\n",
       "      <td>average</td>\n",
       "      <td>mostly anything</td>\n",
       "      <td>socially</td>\n",
       "      <td>never</td>\n",
       "      <td>graduated from college/university</td>\n",
       "      <td>NaN</td>\n",
       "      <td>writing. meeting new people, spending time with friends, seeing\\nfilms, going to literary events and lectures, sifting through\\nbookstores and thrift stores, exploring the city. i also work full\\n...</td>\n",
       "      <td>remembering people's birthdays, sending cards, being thoughtful,\\narm wrestling</td>\n",
       "      <td>i'm rather approachable (a byproduct of being from a small town in\\nthe midwest).</td>\n",
       "      <td>i like: alphabetized lists, aquariums, autobiographies, beer on\\ntap, ben folds, biking, brunch, citrus, cocktails, color, comfort\\nfood, craft projects, dancing, design, diy, essays, fabric store...</td>\n",
       "      <td>friends, family, notebook/pen, books, music, travel</td>\n",
       "      <td>things that amuse and inspire me</td>\n",
       "      <td>out and about or relaxing at home with a good book or netflix</td>\n",
       "      <td>NaN</td>\n",
       "      <td>NaN</td>\n",
       "      <td>white</td>\n",
       "      <td>65.0</td>\n",
       "      <td>-1</td>\n",
       "      <td>artistic / musical / writer</td>\n",
       "      <td>2012-06-29-12-30</td>\n",
       "      <td>san francisco, california</td>\n",
       "      <td>doesn&amp;rsquo;t have kids, but wants them</td>\n",
       "      <td>straight</td>\n",
       "      <td>likes dogs and likes cats</td>\n",
       "      <td>christianity</td>\n",
       "      <td>f</td>\n",
       "      <td>sagittarius</td>\n",
       "      <td>no</td>\n",
       "      <td>english, spanish (okay)</td>\n",
       "      <td>single</td>\n",
       "    </tr>\n",
       "    <tr>\n",
       "      <th>8</th>\n",
       "      <td>24</td>\n",
       "      <td>NaN</td>\n",
       "      <td>strictly anything</td>\n",
       "      <td>socially</td>\n",
       "      <td>NaN</td>\n",
       "      <td>graduated from college/university</td>\n",
       "      <td>NaN</td>\n",
       "      <td>oh goodness. at the moment i have 4 jobs, so it'd be nice to find\\none i could settle into. other than that, i'm making sure i'm\\nsurrounded by good people and keeping happy and active</td>\n",
       "      <td>NaN</td>\n",
       "      <td>i'm freakishly blonde and have the same name as that hurricane from\\na while back.</td>\n",
       "      <td>i am always willing to try new foods and am not too picky. i do\\nhowever have an extremely low tolerance to spicy food, i'm working\\non it tho... i've already conquered pouring chipotle hot sauce ...</td>\n",
       "      <td>sports/my softball glove&lt;br /&gt;\\ncoffee. because nobody likes zombies.&lt;br /&gt;\\nkindle&lt;br /&gt;\\nloud music/concerts&lt;br /&gt;\\ncandlelight showers&lt;br /&gt;\\noh, my amazing/crazy friends and family&lt;br /&gt;\\ngirl...</td>\n",
       "      <td>NaN</td>\n",
       "      <td>in or out... drinking with friends, maybe a bar or dancing my pants\\noff, watching or playing a game</td>\n",
       "      <td>potential friends/lovers/people who come in contact with me, beware\\n... when alone in my car or the shower, i enjoy singing loudly and\\noff key... and even sometimes when i'm not so alone.</td>\n",
       "      <td>http://www.youtube.com/watch?v=4dxbwzuwsxk let's have some fun and\\nmaybe get into a little trouble</td>\n",
       "      <td>white</td>\n",
       "      <td>67.0</td>\n",
       "      <td>-1</td>\n",
       "      <td>NaN</td>\n",
       "      <td>2012-06-29-23-39</td>\n",
       "      <td>belvedere tiburon, california</td>\n",
       "      <td>doesn&amp;rsquo;t have kids</td>\n",
       "      <td>straight</td>\n",
       "      <td>likes dogs and likes cats</td>\n",
       "      <td>christianity but not too serious about it</td>\n",
       "      <td>f</td>\n",
       "      <td>gemini but it doesn&amp;rsquo;t matter</td>\n",
       "      <td>when drinking</td>\n",
       "      <td>english</td>\n",
       "      <td>single</td>\n",
       "    </tr>\n",
       "    <tr>\n",
       "      <th>9</th>\n",
       "      <td>37</td>\n",
       "      <td>athletic</td>\n",
       "      <td>mostly anything</td>\n",
       "      <td>not at all</td>\n",
       "      <td>never</td>\n",
       "      <td>working on two-year college</td>\n",
       "      <td>my names jake.&lt;br /&gt;\\ni'm a creative guy and i look for the same in others.&lt;br /&gt;\\n&lt;br /&gt;\\ni'm easy going, practical and i don't have many hang ups. i\\nappreciate life and try to live it to the fu...</td>\n",
       "      <td>i have an apartment. i like to explore and check things out. i like\\ngood japanese and peruvian food. nothing beats good ceviche on a\\nhot day. or a hot chai on a cold one.&lt;br /&gt;\\n&lt;br /&gt;\\ni've bee...</td>\n",
       "      <td>i'm good at finding creative solutions to problems. i can organize\\na living space pretty well. i'm good at making people smile. i'm\\ngood at laughing at inappropriate times. and i make a mean bow...</td>\n",
       "      <td>i'm short</td>\n",
       "      <td>i like some tv. i love summer heights high and angry boys. and i\\nlove fringe.&lt;br /&gt;\\n&lt;br /&gt;\\ni'm reading stiff after finishing elliott smith and the big nothing\\n(loved it). i like biographies.&lt;b...</td>\n",
       "      <td>music, my guitar&lt;br /&gt;\\ncontrast&lt;br /&gt;\\ngood food&lt;br /&gt;\\nmy bike&lt;br /&gt;\\nmy paintbrush&lt;br /&gt;\\nmy toothbrush&lt;br /&gt;\\nfamily &amp;amp; friends&lt;br /&gt;\\n&lt;em&gt;ok....there's seven&lt;/em&gt;</td>\n",
       "      <td>&lt;strong&gt;&lt;em&gt;you should&lt;/em&gt;&lt;/strong&gt;</td>\n",
       "      <td>&lt;strong&gt;&lt;em&gt;send a message&lt;/em&gt;&lt;/strong&gt;</td>\n",
       "      <td>&lt;em&gt;&lt;strong&gt;and say hi.&lt;/strong&gt;&lt;/em&gt;</td>\n",
       "      <td>you can rock the bells</td>\n",
       "      <td>white</td>\n",
       "      <td>65.0</td>\n",
       "      <td>-1</td>\n",
       "      <td>student</td>\n",
       "      <td>2012-06-28-21-08</td>\n",
       "      <td>san mateo, california</td>\n",
       "      <td>NaN</td>\n",
       "      <td>straight</td>\n",
       "      <td>likes dogs and likes cats</td>\n",
       "      <td>atheism and laughing about it</td>\n",
       "      <td>m</td>\n",
       "      <td>cancer but it doesn&amp;rsquo;t matter</td>\n",
       "      <td>no</td>\n",
       "      <td>english (fluently)</td>\n",
       "      <td>single</td>\n",
       "    </tr>\n",
       "  </tbody>\n",
       "</table>\n",
       "</div>"
      ],
      "text/plain": [
       "   age       body_type               diet      drinks      drugs  \\\n",
       "0   22  a little extra  strictly anything    socially      never   \n",
       "1   35         average       mostly other       often  sometimes   \n",
       "2   38            thin           anything    socially        NaN   \n",
       "3   23            thin         vegetarian    socially        NaN   \n",
       "4   29        athletic                NaN    socially      never   \n",
       "5   29         average    mostly anything    socially        NaN   \n",
       "6   32             fit  strictly anything    socially      never   \n",
       "7   31         average    mostly anything    socially      never   \n",
       "8   24             NaN  strictly anything    socially        NaN   \n",
       "9   37        athletic    mostly anything  not at all      never   \n",
       "\n",
       "                           education  \\\n",
       "0      working on college/university   \n",
       "1              working on space camp   \n",
       "2     graduated from masters program   \n",
       "3      working on college/university   \n",
       "4  graduated from college/university   \n",
       "5  graduated from college/university   \n",
       "6  graduated from college/university   \n",
       "7  graduated from college/university   \n",
       "8  graduated from college/university   \n",
       "9        working on two-year college   \n",
       "\n",
       "                                                                                                                                                                                                    essay0  \\\n",
       "0  about me:<br />\\n<br />\\ni would love to think that i was some some kind of intellectual:\\neither the dumbest smart guy, or the smartest dumb guy. can't say i\\ncan tell the difference. i love to t...   \n",
       "1  i am a chef: this is what that means.<br />\\n1. i am a workaholic.<br />\\n2. i love to cook regardless of whether i am at work.<br />\\n3. i love to drink and eat foods that are probably really bad...   \n",
       "2  i'm not ashamed of much, but writing public text on an online\\ndating site makes me pleasantly uncomfortable. i'll try to be as\\nearnest as possible in the noble endeavor of standing naked before\\...   \n",
       "3                                                                                                                                                                i work in a library and go to school. . .   \n",
       "4  hey how's it going? currently vague on the profile i know, more to\\ncome soon. looking to meet new folks outside of my circle of\\nfriends. i'm pretty responsive on the reply tip, feel free to drop...   \n",
       "5  i'm an australian living in san francisco, but don't hold that\\nagainst me. i spend most of my days trying to build cool stuff for\\nmy company. i speak mandarin and have been known to bust out\\nch...   \n",
       "6  life is about the little things. i love to laugh. it's easy to do\\nwhen one can find beauty and humor in the ugly. this perspective\\nmakes for a more gratifying life. it's a gift. we are here to p...   \n",
       "7                                                                                                                                                                                                      NaN   \n",
       "8                                                                                                                                                                                                      NaN   \n",
       "9  my names jake.<br />\\ni'm a creative guy and i look for the same in others.<br />\\n<br />\\ni'm easy going, practical and i don't have many hang ups. i\\nappreciate life and try to live it to the fu...   \n",
       "\n",
       "                                                                                                                                                                                                    essay1  \\\n",
       "0  currently working as an international agent for a freight\\nforwarding company. import, export, domestic you know the\\nworks.<br />\\nonline classes and trying to better myself in my free time. perh...   \n",
       "1                                                                                                                                                     dedicating everyday to being an unbelievable badass.   \n",
       "2  i make nerdy software for musicians, artists, and experimenters to\\nindulge in their own weirdness, but i like to spend time away from\\nthe computer when working on my artwork (which is typically ...   \n",
       "3                                                                                                                                                                reading things written by old dead people   \n",
       "4                                                                                                                                                                               work work work work + play   \n",
       "5                                                                                                         building awesome stuff. figuring out what's important. having\\nadventures. looking for treasure.   \n",
       "6                                                                                                                                                                               digging up buried treasure   \n",
       "7  writing. meeting new people, spending time with friends, seeing\\nfilms, going to literary events and lectures, sifting through\\nbookstores and thrift stores, exploring the city. i also work full\\n...   \n",
       "8                 oh goodness. at the moment i have 4 jobs, so it'd be nice to find\\none i could settle into. other than that, i'm making sure i'm\\nsurrounded by good people and keeping happy and active   \n",
       "9  i have an apartment. i like to explore and check things out. i like\\ngood japanese and peruvian food. nothing beats good ceviche on a\\nhot day. or a hot chai on a cold one.<br />\\n<br />\\ni've bee...   \n",
       "\n",
       "                                                                                                                                                                                                    essay2  \\\n",
       "0                                                                         making people laugh.<br />\\nranting about a good salting.<br />\\nfinding simplicity in complexity, and complexity in simplicity.   \n",
       "1                                                                                                        being silly. having ridiculous amonts of fun wherever. being a\\nsmart ass. ohh and i can cook. ;)   \n",
       "2  improvising in different contexts. alternating between being\\npresent and decidedly outside of a moment, or trying to hold both\\nat once. rambling intellectual conversations that hold said\\nconver...   \n",
       "3                                                                                                    playing synthesizers and organizing books according to the library\\nof congress classification system   \n",
       "4                                                                                                  creating imagery to look at:<br />\\nhttp://bagsbrown.blogspot.com/<br />\\nhttp://stayruly.blogspot.com/   \n",
       "5  imagining random shit. laughing at aforementioned random shit.\\nbeing goofy. articulating what i think and feel. convincing people\\ni'm right. admitting when i'm wrong.<br />\\n<br />\\ni'm also pre...   \n",
       "6  frolicking<br />\\nwitty banter<br />\\nusing my camera to extract sums of a whole and share my perspective\\nwith the world in hopes of opening up theirs<br />\\nbeing amused by things most people wo...   \n",
       "7                                                                                                                          remembering people's birthdays, sending cards, being thoughtful,\\narm wrestling   \n",
       "8                                                                                                                                                                                                      NaN   \n",
       "9  i'm good at finding creative solutions to problems. i can organize\\na living space pretty well. i'm good at making people smile. i'm\\ngood at laughing at inappropriate times. and i make a mean bow...   \n",
       "\n",
       "                                                                                                                                                                                                    essay3  \\\n",
       "0                                                                            the way i look. i am a six foot half asian, half caucasian mutt. it\\nmakes it tough not to notice me, and for me to blend in.   \n",
       "1                                                                                                                                                                                                      NaN   \n",
       "2  my large jaw and large glasses are the physical things people\\ncomment on the most. when sufficiently stimulated, i have an\\nunmistakable cackle of a laugh. after that, it goes in more\\ndirections...   \n",
       "3                                                                                                                                                                        socially awkward but i do my best   \n",
       "4                                                                                                                                                                  i smile a lot and my inquisitive nature   \n",
       "5                                                                                                                        i have a big smile. i also get asked if i'm wearing blue-coloured\\ncontacts (no).   \n",
       "6                                                                                                                                                                                    i am the last unicorn   \n",
       "7                                                                                                                        i'm rather approachable (a byproduct of being from a small town in\\nthe midwest).   \n",
       "8                                                                                                                       i'm freakishly blonde and have the same name as that hurricane from\\na while back.   \n",
       "9                                                                                                                                                                                                i'm short   \n",
       "\n",
       "                                                                                                                                                                                                    essay4  \\\n",
       "0  books:<br />\\nabsurdistan, the republic, of mice and men (only book that made me\\nwant to cry), catcher in the rye, the prince.<br />\\n<br />\\nmovies:<br />\\ngladiator, operation valkyrie, the pro...   \n",
       "1  i am die hard christopher moore fan. i don't really watch a lot of\\ntv unless there is humor involved. i am kind of stuck on 90's\\nalternative music. i am pretty much a fan of everything though......   \n",
       "2  okay this is where the cultural matrix gets so specific, it's like\\nbeing in the crosshairs.<br />\\n<br />\\nfor what it's worth, i find myself reading more non-fiction than\\nfiction. it's usually ...   \n",
       "3  bataille, celine, beckett. . .<br />\\nlynch, jarmusch, r.w. fassbender. . .<br />\\ntwin peaks &amp; fishing w/ john<br />\\njoy division, throbbing gristle, cabaret voltaire. . .<br />\\nvegetarian ...   \n",
       "4  music: bands, rappers, musicians<br />\\nat the moment: thee oh sees.<br />\\nforever: wu-tang<br />\\nbooks: artbooks for days<br />\\naudiobooks: my collection, thick (thanks audible)<br />\\nshows: ...   \n",
       "5  books: to kill a mockingbird, lord of the rings, 1984, the farseer\\ntrilogy.<br />\\n<br />\\nmusic: the beatles, frank sinatra, john mayer, jason mraz,\\ndeadmau5, andrew bayer, everything on anjuna...   \n",
       "6  i like books. ones with pictures. reading them is great too. where\\ndo people find the time? i spend more time with other people not\\nreading. i collect books. they sit neatly on my bookshelves.<b...   \n",
       "7  i like: alphabetized lists, aquariums, autobiographies, beer on\\ntap, ben folds, biking, brunch, citrus, cocktails, color, comfort\\nfood, craft projects, dancing, design, diy, essays, fabric store...   \n",
       "8  i am always willing to try new foods and am not too picky. i do\\nhowever have an extremely low tolerance to spicy food, i'm working\\non it tho... i've already conquered pouring chipotle hot sauce ...   \n",
       "9  i like some tv. i love summer heights high and angry boys. and i\\nlove fringe.<br />\\n<br />\\ni'm reading stiff after finishing elliott smith and the big nothing\\n(loved it). i like biographies.<b...   \n",
       "\n",
       "                                                                                                                                                                                                    essay5  \\\n",
       "0                                                                                                                                                   food.<br />\\nwater.<br />\\ncell phone.<br />\\nshelter.   \n",
       "1  delicious porkness in all of its glories.<br />\\nmy big ass doughboy's sinking into 15 new inches.<br />\\nmy overly resilient liver.<br />\\na good sharp knife.<br />\\nmy ps3... it plays blurays to...   \n",
       "2                                                                                                              movement<br />\\nconversation<br />\\ncreation<br />\\ncontemplation<br />\\ntouch<br />\\nhumor   \n",
       "3                                                                                                                                                                                                      NaN   \n",
       "4                                                                                                                                                                                                      NaN   \n",
       "5  like everyone else, i love my friends and family, and need hugs,\\nhuman contact, water and sunshine. let's take that as given.<br />\\n<br />\\n1. something to build<br />\\n2. something to sing<br /...   \n",
       "6                                                                         laughter<br />\\namazing people in my life<br />\\ncolor<br />\\ncuriosity<br />\\nmusic and rhythm<br />\\na good pair of sunglasses   \n",
       "7                                                                                                                                                      friends, family, notebook/pen, books, music, travel   \n",
       "8  sports/my softball glove<br />\\ncoffee. because nobody likes zombies.<br />\\nkindle<br />\\nloud music/concerts<br />\\ncandlelight showers<br />\\noh, my amazing/crazy friends and family<br />\\ngirl...   \n",
       "9                               music, my guitar<br />\\ncontrast<br />\\ngood food<br />\\nmy bike<br />\\nmy paintbrush<br />\\nmy toothbrush<br />\\nfamily &amp; friends<br />\\n<em>ok....there's seven</em>   \n",
       "\n",
       "                                                                                                                                                                                                    essay6  \\\n",
       "0                                                                                                                                                                              duality and humorous things   \n",
       "1                                                                                                                                                                                                      NaN   \n",
       "2                                                                                                                                                                                                      NaN   \n",
       "3                                                                                                                                                                               cats and german philosophy   \n",
       "4                                                                                                                                                                                                      NaN   \n",
       "5                                                                                          what my contribution to the world is going to be and/or should be.\\nand what's for breakfast. i love breakfast.   \n",
       "6  synchronicity<br />\\n<br />\\nthere is this whole other realm where the fabrics of our life\\nstories intersect as they dance and play in a magical burst of\\nenergy. this realm doesn't need you to b...   \n",
       "7                                                                                                                                                                         things that amuse and inspire me   \n",
       "8                                                                                                                                                                                                      NaN   \n",
       "9                                                                                                                                                                     <strong><em>you should</em></strong>   \n",
       "\n",
       "                                                                                                 essay7  \\\n",
       "0                       trying to find someone to hang out with. i am down for anything\\nexcept a club.   \n",
       "1                                                                                                   NaN   \n",
       "2                                           viewing. listening. dancing. talking. drinking. performing.   \n",
       "3                                                                                                   NaN   \n",
       "4                                                                                                   NaN   \n",
       "5                                                                                  out with my friends!   \n",
       "6      plotting to take over the world with my army of segway riding\\npandas and fire breathing kittens   \n",
       "7                                         out and about or relaxing at home with a good book or netflix   \n",
       "8  in or out... drinking with friends, maybe a bar or dancing my pants\\noff, watching or playing a game   \n",
       "9                                                              <strong><em>send a message</em></strong>   \n",
       "\n",
       "                                                                                                                                                                                          essay8  \\\n",
       "0                                                                                                                       i am new to california and looking for someone to wisper my secrets\\nto.   \n",
       "1                                                                                                                                             i am very open and will share just about anything.   \n",
       "2                                                                                                                                     when i was five years old, i was known as \"the boogerman\".   \n",
       "3                                                                                                                                                                                            NaN   \n",
       "4                                                                                                                                                                                            NaN   \n",
       "5                                                                                                                 i cried on my first day at school because a bird shat on my head.\\ntrue story.   \n",
       "6                                                                                                                                                                        my typical friday night   \n",
       "7                                                                                                                                                                                            NaN   \n",
       "8  potential friends/lovers/people who come in contact with me, beware\\n... when alone in my car or the shower, i enjoy singing loudly and\\noff key... and even sometimes when i'm not so alone.   \n",
       "9                                                                                                                                                          <em><strong>and say hi.</strong></em>   \n",
       "\n",
       "                                                                                                                                                                                                    essay9  \\\n",
       "0                                             you want to be swept off your feet!<br />\\nyou are tired of the norm.<br />\\nyou want to catch a coffee or a bite.<br />\\nor if you want to talk philosophy.   \n",
       "1                                                                                                                                                                                                      NaN   \n",
       "2  you are bright, open, intense, silly, ironic, critical, caring,\\ngenerous, looking for an exploration, rather than finding \"a match\"\\nof some predetermined qualities.<br />\\n<br />\\ni'm currently ...   \n",
       "3                                                                                                                                                                                    you feel so inclined.   \n",
       "4                                                                                                                                                                                                      NaN   \n",
       "5                                                                                                                                                                                          you're awesome.   \n",
       "6                                                                                                                                                                                                      NaN   \n",
       "7                                                                                                                                                                                                      NaN   \n",
       "8                                                                                                      http://www.youtube.com/watch?v=4dxbwzuwsxk let's have some fun and\\nmaybe get into a little trouble   \n",
       "9                                                                                                                                                                                   you can rock the bells   \n",
       "\n",
       "             ethnicity  height  income                             job  \\\n",
       "0         asian, white    75.0      -1                  transportation   \n",
       "1                white    70.0   80000            hospitality / travel   \n",
       "2                  NaN    68.0      -1                             NaN   \n",
       "3                white    71.0   20000                         student   \n",
       "4  asian, black, other    66.0      -1     artistic / musical / writer   \n",
       "5                white    67.0      -1  computer / hardware / software   \n",
       "6         white, other    65.0      -1                             NaN   \n",
       "7                white    65.0      -1     artistic / musical / writer   \n",
       "8                white    67.0      -1                             NaN   \n",
       "9                white    65.0      -1                         student   \n",
       "\n",
       "        last_online                         location  \\\n",
       "0  2012-06-28-20-30  south san francisco, california   \n",
       "1  2012-06-29-21-41              oakland, california   \n",
       "2  2012-06-27-09-10        san francisco, california   \n",
       "3  2012-06-28-14-22             berkeley, california   \n",
       "4  2012-06-27-21-26        san francisco, california   \n",
       "5  2012-06-29-19-18        san francisco, california   \n",
       "6  2012-06-25-20-45        san francisco, california   \n",
       "7  2012-06-29-12-30        san francisco, california   \n",
       "8  2012-06-29-23-39    belvedere tiburon, california   \n",
       "9  2012-06-28-21-08            san mateo, california   \n",
       "\n",
       "                                      offspring orientation  \\\n",
       "0  doesn&rsquo;t have kids, but might want them    straight   \n",
       "1  doesn&rsquo;t have kids, but might want them    straight   \n",
       "2                                           NaN    straight   \n",
       "3                       doesn&rsquo;t want kids    straight   \n",
       "4                                           NaN    straight   \n",
       "5  doesn&rsquo;t have kids, but might want them    straight   \n",
       "6                                           NaN    straight   \n",
       "7       doesn&rsquo;t have kids, but wants them    straight   \n",
       "8                       doesn&rsquo;t have kids    straight   \n",
       "9                                           NaN    straight   \n",
       "\n",
       "                        pets                                   religion sex  \\\n",
       "0  likes dogs and likes cats      agnosticism and very serious about it   m   \n",
       "1  likes dogs and likes cats   agnosticism but not too serious about it   m   \n",
       "2                   has cats                                        NaN   m   \n",
       "3                 likes cats                                        NaN   m   \n",
       "4  likes dogs and likes cats                                        NaN   m   \n",
       "5                 likes cats                                    atheism   m   \n",
       "6  likes dogs and likes cats                                        NaN   f   \n",
       "7  likes dogs and likes cats                               christianity   f   \n",
       "8  likes dogs and likes cats  christianity but not too serious about it   f   \n",
       "9  likes dogs and likes cats              atheism and laughing about it   m   \n",
       "\n",
       "                                 sign         smokes  \\\n",
       "0                              gemini      sometimes   \n",
       "1                              cancer             no   \n",
       "2  pisces but it doesn&rsquo;t matter             no   \n",
       "3                              pisces             no   \n",
       "4                            aquarius             no   \n",
       "5                              taurus             no   \n",
       "6                               virgo            NaN   \n",
       "7                         sagittarius             no   \n",
       "8  gemini but it doesn&rsquo;t matter  when drinking   \n",
       "9  cancer but it doesn&rsquo;t matter             no   \n",
       "\n",
       "                                                  speaks     status  \n",
       "0                                                english     single  \n",
       "1  english (fluently), spanish (poorly), french (poorly)     single  \n",
       "2                                   english, french, c++  available  \n",
       "3                               english, german (poorly)     single  \n",
       "4                                                english     single  \n",
       "5                     english (fluently), chinese (okay)     single  \n",
       "6                                                english     single  \n",
       "7                                english, spanish (okay)     single  \n",
       "8                                                english     single  \n",
       "9                                     english (fluently)     single  "
      ]
     },
     "execution_count": 12,
     "metadata": {},
     "output_type": "execute_result"
    }
   ],
   "source": [
    "pd.set_option('display.max_columns', None)  \n",
    "pd.set_option('display.max_colwidth', 200)\n",
    "df.head(10)"
   ]
  },
  {
   "cell_type": "code",
   "execution_count": 8,
   "metadata": {
    "scrolled": true
   },
   "outputs": [
    {
     "data": {
      "image/png": "[encoded data removed]",
      "text/plain": [
       "<Figure size 432x288 with 1 Axes>"
      ]
     },
     "metadata": {
      "needs_background": "light"
     },
     "output_type": "display_data"
    }
   ],
   "source": [
    "from matplotlib import pyplot as plt\n",
    "plt.hist(df.age, bins=20)\n",
    "plt.xlabel(\"Age\")\n",
    "plt.ylabel(\"Frequency\")\n",
    "plt.xlim(16, 80)\n",
    "plt.show()"
   ]
  },
  {
   "cell_type": "code",
   "execution_count": 58,
   "metadata": {},
   "outputs": [],
   "source": [
    "# TODO: decide if we want to do anything with this\n",
    "def get_label_mapping_for_column(col_name):\n",
    "    mappings = {\n",
    "        \"drinks\": {\"not at all\": 0, \"rarely\": 1, \"socially\": 2, \"often\": 3, \"very often\": 4, \"desparately\": 5}\n",
    "    }\n",
    "    return mappings[col_name]\n"
   ]
  },
  {
   "cell_type": "code",
   "execution_count": null,
   "metadata": {},
   "outputs": [],
   "source": []
  },
  {
   "cell_type": "markdown",
   "metadata": {},
   "source": [
    "# Question\n",
    "Given the essays, can any demographics be predicted accurately?\n",
    "\n",
    "## Essays:\n",
    "* essay0 - My self summary\n",
    "* essay1 - What I’m doing with my life\n",
    "* essay2 - I’m really good at\n",
    "* essay3 - The first thing people usually notice about me\n",
    "* essay4 - Favorite books, movies, show, music, and food\n",
    "* essay5 - The six things I could never do without\n",
    "* essay6 - I spend a lot of time thinking about\n",
    "* essay7 - On a typical Friday night I am\n",
    "* essay8 - The most private thing I am willing to admit\n",
    "* essay9 - You should message me if... \n",
    "\n",
    "\n",
    "## Demographics:\n",
    " 1. age\n",
    " 2. body_type\n",
    " 3. diet\n",
    " 4. drinks\n",
    " 5. drugs\n",
    " 6. education\n",
    " 7. ethnicity\n",
    " 8. height\n",
    " 9. job\n",
    " 10. orientation\n",
    " 11. pets\n",
    " 12. religion\n",
    " 13. sex\n",
    " 14. sign\n",
    " 15. smokes\n",
    " 16. speaks\n",
    " 17. status"
   ]
  },
  {
   "cell_type": "code",
   "execution_count": null,
   "metadata": {},
   "outputs": [],
   "source": []
  },
  {
   "cell_type": "markdown",
   "metadata": {},
   "source": [
    "# Approach\n",
    "1. Identify a demographic we want to predict with essay text.\n",
    "2. Concatenate the essay columns together\n",
    "3. Make a word list / labels.\n",
    "4. Use scikit_learn train_test_split\n",
    "5. Evaluate the accuracy / precision / recall.\n"
   ]
  },
  {
   "cell_type": "markdown",
   "metadata": {},
   "source": [
    "## Prediction\n",
    "Let's see if we can predict a user's sex with their essays."
   ]
  },
  {
   "cell_type": "code",
   "execution_count": 150,
   "metadata": {},
   "outputs": [],
   "source": [
    "import re\n",
    "import datetime\n",
    "\n",
    "def filter_essay_text(text):\n",
    "    # replace html entities and newlines with space\n",
    "    filtered_text = re.sub(r'<br />\\n|\\n|&amp;|&quot;', ' ', text)\n",
    "    # eliminate non-word characters\n",
    "    filtered_text = re.sub(r'[^\\w^ ]', '', filtered_text)\n",
    "    return filtered_text\n",
    "\n",
    "def get_essays_word_list(essays):\n",
    "    word_list = []\n",
    "    for essay in essays:\n",
    "        if (type(essay) == str):\n",
    "            word_list += filter_essay_text(essay).split()\n",
    "    return word_list\n",
    "\n",
    "def get_concatenated_and_filtered_essays(essays, word_combination_level=1):\n",
    "    concatenated_text = ''\n",
    "    word_list = get_essays_word_list(essays)\n",
    "    word_list_len = len(word_list)\n",
    "    for i in range(0, word_list_len):\n",
    "        if ((i + word_combination_level) < word_list_len):\n",
    "            for j in range(0, word_combination_level):\n",
    "                concatenated_text += word_list[i+j]\n",
    "            concatenated_text += ' '\n",
    "    # remove the extra space from the end of the string\n",
    "    concatenated_text = concatenated_text[:-1]\n",
    "    return concatenated_text\n",
    "\n",
    "def get_concatenated_and_filtered_essays_from_row(row, word_combination_level=1):\n",
    "    essays = []\n",
    "    for i in range(0, 10):\n",
    "        key = 'essay' + str(i)\n",
    "        essays.append(row[key])\n",
    "    return get_concatenated_and_filtered_essays(essays, word_combination_level)\n"
   ]
  },
  {
   "cell_type": "code",
   "execution_count": 52,
   "metadata": {},
   "outputs": [],
   "source": [
    "\n",
    "essay_cols = ['essay0', 'essay1', 'essay2', 'essay3', 'essay4', 'essay5', 'essay6', 'essay7', 'essay8', 'essay9']\n",
    "demographics = ['sex']\n",
    "all_essays = {}\n",
    "all_essays_labels = {}\n",
    "\n",
    "for demographic in demographics:\n",
    "    all_essays[demographic] = []\n",
    "    all_essays_labels[demographic] = []\n",
    "    demog_values = df[demographic].unique()\n",
    "    i = 0\n",
    "    for demog_value in demog_values:\n",
    "        essays_list = df[df[demographic] == demog_value][essay_cols].values\n",
    "        for essays in essays_list:\n",
    "            essay = get_concatenated_and_filtered_essays(essays)\n",
    "            all_essays[demographic].append(essay)\n",
    "            all_essays_labels[demographic].append(i)\n",
    "        i += 1\n",
    "    #print(len(all_essays))\n",
    "    #print(len(all_essays_labels))\n",
    "    #print(all_essays[0])\n",
    "    #print(all_essays_labels[0])\n",
    "    #print(all_essays[len(all_essays_labels)-1])\n",
    "    #print(all_essays_labels[len(all_essays_labels)-1])\n",
    "\n",
    "#[rint(all_essays['sex'][0])\n",
    "print(all_essays_labels['sex'][0])\n",
    "print(all_essays['sex'][len(all_essays_labels['sex'])-1])\n",
    "print(all_essays_labels['sex'][len(all_essays_labels['sex'])-1])\n"
   ]
  },
  {
   "cell_type": "code",
   "execution_count": 89,
   "metadata": {},
   "outputs": [],
   "source": [
    "# New pandas column with text for all essays concatenated, special characters removed.\n",
    "#df['filtered_essays'] = df.apply(lambda row: get_concatenated_and_filtered_essays_from_row(row), axis=1)\n",
    "df['filtered_essays_lvl2'] = df.apply(lambda row: get_concatenated_and_filtered_essays_from_row(row, 2), axis=1)\n",
    "#df['filtered_essays_lvl3'] = df.apply(lambda row: get_concatenated_and_filtered_essays_from_row(row, 3), axis=1)"
   ]
  },
  {
   "cell_type": "code",
   "execution_count": 96,
   "metadata": {},
   "outputs": [
    {
     "name": "stdout",
     "output_type": "stream",
     "text": [
      "about me i would love to think that i was some some kind of intellectual either the dumbest smart guy or the smartest dumb guy cant say i can tell the difference i love to talk about ideas and concepts i forge odd metaphors instead of reciting cliches like the simularities between a friend of mines house and an underwater salt mine my favorite word is salt by the way weird choice i know to me most things in life are better as metaphors i seek to make myself a little better everyday in some productively lazy way got tired of tying my shoes considered hiring a five year old but would probably have to tie both of our shoes decided to only wear leather shoes dress shoes about you you love to have really serious really deep conversations about really silly stuff you have to be willing to snap me out of a light hearted rant with a kiss you dont have to be funny but you have to be able to make me laugh you should be able to bend spoons with your mind and telepathically make me smile while i am still at work you should love life and be cool with just letting the wind blow extra points for reading all this and guessing my favorite video game no hints given yet and lastly you have a good attention span currently working as an international agent for a freight forwarding company import export domestic you know the works online classes and trying to better myself in my free time perhaps a hours worth of a good book or a video game on a lazy sunday making people laugh ranting about a good salting finding simplicity in complexity and complexity in simplicity the way i look i am a six foot half asian half caucasian mutt it makes it tough not to notice me and for me to blend in books absurdistan the republic of mice and men only book that made me want to cry catcher in the rye the prince movies gladiator operation valkyrie the producers down periscope shows the borgia arrested development game of thrones monty python music aesop rock hail mary mallon george thorogood and the delaware destroyers felt food im down for anything food water cell phone shelter duality and humorous things trying to find someone to hang out with i am down for anything except a club i am new to california and looking for someone to wisper my secrets to you want to be swept off your feet you are tired of the norm you want to catch a coffee or a bite or if you want to talk\n",
      "aboutme mei iwould wouldlove loveto tothink thinkthat thati iwas wassome somesome somekind kindof ofintellectual intellectualeither eitherthe thedumbest dumbestsmart smartguy guyor orthe thesmartest smartestdumb dumbguy guycant cantsay sayi ican cantell tellthe thedifference differencei ilove loveto totalk talkabout aboutideas ideasand andconcepts conceptsi iforge forgeodd oddmetaphors metaphorsinstead insteadof ofreciting recitingcliches clicheslike likethe thesimularities simularitiesbetween betweena afriend friendof ofmines mineshouse houseand andan anunderwater underwatersalt saltmine minemy myfavorite favoriteword wordis issalt saltby bythe theway wayweird weirdchoice choicei iknow knowto tome memost mostthings thingsin inlife lifeare arebetter betteras asmetaphors metaphorsi iseek seekto tomake makemyself myselfa alittle littlebetter bettereveryday everydayin insome someproductively productivelylazy lazyway waygot gottired tiredof oftying tyingmy myshoes shoesconsidered consideredhiring hiringa afive fiveyear yearold oldbut butwould wouldprobably probablyhave haveto totie tieboth bothof ofour ourshoes shoesdecided decidedto toonly onlywear wearleather leathershoes shoesdress dressshoes shoesabout aboutyou youyou youlove loveto tohave havereally reallyserious seriousreally reallydeep deepconversations conversationsabout aboutreally reallysilly sillystuff stuffyou youhave haveto tobe bewilling willingto tosnap snapme meout outof ofa alight lighthearted heartedrant rantwith witha akiss kissyou youdont donthave haveto tobe befunny funnybut butyou youhave haveto tobe beable ableto tomake makeme melaugh laughyou youshould shouldbe beable ableto tobend bendspoons spoonswith withyour yourmind mindand andtelepathically telepathicallymake makeme mesmile smilewhile whilei iam amstill stillat atwork workyou youshould shouldlove lovelife lifeand andbe becool coolwith withjust justletting lettingthe thewind windblow blowextra extrapoints pointsfor forreading readingall allthis thisand andguessing guessingmy myfavorite favoritevideo videogame gameno nohints hintsgiven givenyet yetand andlastly lastlyyou youhave havea agood goodattention attentionspan spancurrently currentlyworking workingas asan aninternational internationalagent agentfor fora afreight freightforwarding forwardingcompany companyimport importexport exportdomestic domesticyou youknow knowthe theworks worksonline onlineclasses classesand andtrying tryingto tobetter bettermyself myselfin inmy myfree freetime timeperhaps perhapsa ahours hoursworth worthof ofa agood goodbook bookor ora avideo videogame gameon ona alazy lazysunday sundaymaking makingpeople peoplelaugh laughranting rantingabout abouta agood goodsalting saltingfinding findingsimplicity simplicityin incomplexity complexityand andcomplexity complexityin insimplicity simplicitythe theway wayi ilook looki iam ama asix sixfoot foothalf halfasian asianhalf halfcaucasian caucasianmutt muttit itmakes makesit ittough toughnot notto tonotice noticeme meand andfor forme meto toblend blendin inbooks booksabsurdistan absurdistanthe therepublic republicof ofmice miceand andmen menonly onlybook bookthat thatmade mademe mewant wantto tocry crycatcher catcherin inthe therye ryethe theprince princemovies moviesgladiator gladiatoroperation operationvalkyrie valkyriethe theproducers producersdown downperiscope periscopeshows showsthe theborgia borgiaarrested arresteddevelopment developmentgame gameof ofthrones thronesmonty montypython pythonmusic musicaesop aesoprock rockhail hailmary marymallon mallongeorge georgethorogood thorogoodand andthe thedelaware delawaredestroyers destroyersfelt feltfood foodim imdown downfor foranything anythingfood foodwater watercell cellphone phoneshelter shelterduality dualityand andhumorous humorousthings thingstrying tryingto tofind findsomeone someoneto tohang hangout outwith withi iam amdown downfor foranything anythingexcept excepta aclub clubi iam amnew newto tocalifornia californiaand andlooking lookingfor forsomeone someoneto towisper wispermy mysecrets secretsto toyou youwant wantto tobe beswept sweptoff offyour yourfeet feetyou youare aretired tiredof ofthe thenorm normyou youwant wantto tocatch catcha acoffee coffeeor ora abite biteor orif ifyou youwant wantto totalk\n",
      "aboutmei meiwould iwouldlove wouldloveto lovetothink tothinkthat thinkthati thatiwas iwassome wassomesome somesomekind somekindof kindofintellectual ofintellectualeither intellectualeitherthe eitherthedumbest thedumbestsmart dumbestsmartguy smartguyor guyorthe orthesmartest thesmartestdumb smartestdumbguy dumbguycant guycantsay cantsayi sayican icantell cantellthe tellthedifference thedifferencei differenceilove iloveto lovetotalk totalkabout talkaboutideas aboutideasand ideasandconcepts andconceptsi conceptsiforge iforgeodd forgeoddmetaphors oddmetaphorsinstead metaphorsinsteadof insteadofreciting ofrecitingcliches recitingclicheslike clicheslikethe likethesimularities thesimularitiesbetween simularitiesbetweena betweenafriend afriendof friendofmines ofmineshouse mineshouseand houseandan andanunderwater anunderwatersalt underwatersaltmine saltminemy minemyfavorite myfavoriteword favoritewordis wordissalt issaltby saltbythe bytheway thewayweird wayweirdchoice weirdchoicei choiceiknow iknowto knowtome tomemost memostthings mostthingsin thingsinlife inlifeare lifearebetter arebetteras betterasmetaphors asmetaphorsi metaphorsiseek iseekto seektomake tomakemyself makemyselfa myselfalittle alittlebetter littlebettereveryday bettereverydayin everydayinsome insomeproductively someproductivelylazy productivelylazyway lazywaygot waygottired gottiredof tiredoftying oftyingmy tyingmyshoes myshoesconsidered shoesconsideredhiring consideredhiringa hiringafive afiveyear fiveyearold yearoldbut oldbutwould butwouldprobably wouldprobablyhave probablyhaveto havetotie totieboth tiebothof bothofour ofourshoes ourshoesdecided shoesdecidedto decidedtoonly toonlywear onlywearleather wearleathershoes leathershoesdress shoesdressshoes dressshoesabout shoesaboutyou aboutyouyou youyoulove youloveto lovetohave tohavereally havereallyserious reallyseriousreally seriousreallydeep reallydeepconversations deepconversationsabout conversationsaboutreally aboutreallysilly reallysillystuff sillystuffyou stuffyouhave youhaveto havetobe tobewilling bewillingto willingtosnap tosnapme snapmeout meoutof outofa ofalight alighthearted lightheartedrant heartedrantwith rantwitha withakiss akissyou kissyoudont youdonthave donthaveto havetobe tobefunny befunnybut funnybutyou butyouhave youhaveto havetobe tobeable beableto abletomake tomakeme makemelaugh melaughyou laughyoushould youshouldbe shouldbeable beableto abletobend tobendspoons bendspoonswith spoonswithyour withyourmind yourmindand mindandtelepathically andtelepathicallymake telepathicallymakeme makemesmile mesmilewhile smilewhilei whileiam iamstill amstillat stillatwork atworkyou workyoushould youshouldlove shouldlovelife lovelifeand lifeandbe andbecool becoolwith coolwithjust withjustletting justlettingthe lettingthewind thewindblow windblowextra blowextrapoints extrapointsfor pointsforreading forreadingall readingallthis allthisand thisandguessing andguessingmy guessingmyfavorite myfavoritevideo favoritevideogame videogameno gamenohints nohintsgiven hintsgivenyet givenyetand yetandlastly andlastlyyou lastlyyouhave youhavea haveagood agoodattention goodattentionspan attentionspancurrently spancurrentlyworking currentlyworkingas workingasan asaninternational aninternationalagent internationalagentfor agentfora forafreight afreightforwarding freightforwardingcompany forwardingcompanyimport companyimportexport importexportdomestic exportdomesticyou domesticyouknow youknowthe knowtheworks theworksonline worksonlineclasses onlineclassesand classesandtrying andtryingto tryingtobetter tobettermyself bettermyselfin myselfinmy inmyfree myfreetime freetimeperhaps timeperhapsa perhapsahours ahoursworth hoursworthof worthofa ofagood agoodbook goodbookor bookora oravideo avideogame videogameon gameona onalazy alazysunday lazysundaymaking sundaymakingpeople makingpeoplelaugh peoplelaughranting laughrantingabout rantingabouta aboutagood agoodsalting goodsaltingfinding saltingfindingsimplicity findingsimplicityin simplicityincomplexity incomplexityand complexityandcomplexity andcomplexityin complexityinsimplicity insimplicitythe simplicitytheway thewayi wayilook ilooki lookiam iama amasix asixfoot sixfoothalf foothalfasian halfasianhalf asianhalfcaucasian halfcaucasianmutt caucasianmuttit muttitmakes itmakesit makesittough ittoughnot toughnotto nottonotice tonoticeme noticemeand meandfor andforme formeto metoblend toblendin blendinbooks inbooksabsurdistan booksabsurdistanthe absurdistantherepublic therepublicof republicofmice ofmiceand miceandmen andmenonly menonlybook onlybookthat bookthatmade thatmademe mademewant mewantto wanttocry tocrycatcher crycatcherin catcherinthe intherye theryethe ryetheprince theprincemovies princemoviesgladiator moviesgladiatoroperation gladiatoroperationvalkyrie operationvalkyriethe valkyrietheproducers theproducersdown producersdownperiscope downperiscopeshows periscopeshowsthe showstheborgia theborgiaarrested borgiaarresteddevelopment arresteddevelopmentgame developmentgameof gameofthrones ofthronesmonty thronesmontypython montypythonmusic pythonmusicaesop musicaesoprock aesoprockhail rockhailmary hailmarymallon marymallongeorge mallongeorgethorogood georgethorogoodand thorogoodandthe andthedelaware thedelawaredestroyers delawaredestroyersfelt destroyersfeltfood feltfoodim foodimdown imdownfor downforanything foranythingfood anythingfoodwater foodwatercell watercellphone cellphoneshelter phoneshelterduality shelterdualityand dualityandhumorous andhumorousthings humorousthingstrying thingstryingto tryingtofind tofindsomeone findsomeoneto someonetohang tohangout hangoutwith outwithi withiam iamdown amdownfor downforanything foranythingexcept anythingexcepta exceptaclub aclubi clubiam iamnew amnewto newtocalifornia tocaliforniaand californiaandlooking andlookingfor lookingforsomeone forsomeoneto someonetowisper towispermy wispermysecrets mysecretsto secretstoyou toyouwant youwantto wanttobe tobeswept besweptoff sweptoffyour offyourfeet yourfeetyou feetyouare youaretired aretiredof tiredofthe ofthenorm thenormyou normyouwant youwantto wanttocatch tocatcha catchacoffee acoffeeor coffeeora orabite abiteor biteorif orifyou ifyouwant youwantto wanttotalk\n"
     ]
    }
   ],
   "source": [
    "print(df['filtered_essays'].values[0])\n",
    "print(df['filtered_essays_lvl2'].values[0])\n",
    "print(df['filtered_essays_lvl3'].values[0])"
   ]
  },
  {
   "cell_type": "code",
   "execution_count": null,
   "metadata": {},
   "outputs": [],
   "source": []
  },
  {
   "cell_type": "code",
   "execution_count": 122,
   "metadata": {},
   "outputs": [],
   "source": [
    "df['sex_int'] = df.apply(lambda row: 0 if row['sex'] == 'm' else 1, axis=1)"
   ]
  },
  {
   "cell_type": "markdown",
   "metadata": {},
   "source": [
    "## Visualize the data: Number of males vs females"
   ]
  },
  {
   "cell_type": "code",
   "execution_count": 148,
   "metadata": {},
   "outputs": [
    {
     "name": "stdout",
     "output_type": "stream",
     "text": [
      "[35829, 24117]\n"
     ]
    },
    {
     "data": {
      "image/png": "[encoded data removed]",
      "text/plain": [
       "<Figure size 432x288 with 1 Axes>"
      ]
     },
     "metadata": {
      "needs_background": "light"
     },
     "output_type": "display_data"
    }
   ],
   "source": [
    "from matplotlib import pyplot as plt\n",
    "column = 'sex_int'\n",
    "x_vals = df[column].unique().tolist()\n",
    "plt.xticks(x_vals, df['sex'].unique().tolist())\n",
    "plt.xlabel(\"Sex\")\n",
    "plt.ylabel(\"Number of users\")\n",
    "plt.title(\"Number of users by sex\")\n",
    "y_vals = []\n",
    "for x_val in x_vals:\n",
    "    vals_num = len(df[df[column] == x_val])\n",
    "    y_vals.append(vals_num)\n",
    "\n",
    "plt.bar(x_vals, y_vals, align=\"center\")\n",
    "print(y_vals)\n",
    "\n"
   ]
  },
  {
   "cell_type": "markdown",
   "metadata": {},
   "source": [
    "### Split into training and testing sets"
   ]
  },
  {
   "cell_type": "code",
   "execution_count": 165,
   "metadata": {},
   "outputs": [
    {
     "name": "stdout",
     "output_type": "stream",
     "text": [
      "47956\n",
      "11990\n"
     ]
    }
   ],
   "source": [
    "# This random_state variable is reused for the various scikit_learn model constructors.\n",
    "random_state = 50\n",
    "\n",
    "from sklearn.model_selection import train_test_split\n",
    "demog = demographics[0]\n",
    "#train_data, test_data, train_labels, test_labels = train_test_split(df['filtered_essays'], df[demog], test_size=0.2, random_state=random_state)\n",
    "train_data, test_data, train_labels, test_labels = train_test_split(df['filtered_essays'], df['sex_int'], test_size=0.2, random_state=random_state)\n",
    "#train_data, test_data, train_labels, test_labels = train_test_split(df['filtered_essays_lvl2'], df['sex_int'], test_size=0.2, random_state=random_state)\n",
    "#train_data, test_data, train_labels, test_labels = train_test_split(df['filtered_essays_lvl3'], df['sex_int'], test_size=0.2, random_state=random_state)\n",
    "print(len(train_data))\n",
    "print(len(test_data))"
   ]
  },
  {
   "cell_type": "markdown",
   "metadata": {},
   "source": [
    "### Make count vectors"
   ]
  },
  {
   "cell_type": "code",
   "execution_count": 166,
   "metadata": {},
   "outputs": [
    {
     "name": "stdout",
     "output_type": "stream",
     "text": [
      "2018-12-16 13:57:27.191800\n",
      "2018-12-16 13:57:56.736852\n"
     ]
    }
   ],
   "source": [
    "from sklearn.feature_extraction.text import CountVectorizer\n",
    "counter = CountVectorizer()\n",
    "print(datetime.datetime.now())\n",
    "counter.fit(train_data)\n",
    "train_counts = counter.transform(train_data)\n",
    "test_counts = counter.transform(test_data)\n",
    "print(datetime.datetime.now())\n",
    "#print(train_data[0])\n",
    "#print(train_counts[0])"
   ]
  },
  {
   "cell_type": "code",
   "execution_count": null,
   "metadata": {},
   "outputs": [],
   "source": []
  },
  {
   "cell_type": "markdown",
   "metadata": {},
   "source": [
    "## Dataset Exploration:\n",
    "What are the most frequently used words for males? What are the most frequently used words for females?"
   ]
  },
  {
   "cell_type": "code",
   "execution_count": 179,
   "metadata": {},
   "outputs": [
    {
     "name": "stdout",
     "output_type": "stream",
     "text": [
      "[array(['00'], dtype='<U1718')]\n"
     ]
    }
   ],
   "source": [
    "print(counter)"
   ]
  },
  {
   "cell_type": "code",
   "execution_count": null,
   "metadata": {},
   "outputs": [],
   "source": []
  },
  {
   "cell_type": "code",
   "execution_count": null,
   "metadata": {},
   "outputs": [],
   "source": []
  },
  {
   "cell_type": "code",
   "execution_count": null,
   "metadata": {},
   "outputs": [],
   "source": []
  },
  {
   "cell_type": "code",
   "execution_count": null,
   "metadata": {},
   "outputs": [],
   "source": []
  },
  {
   "cell_type": "markdown",
   "metadata": {},
   "source": [
    "# Classification\n",
    "We'll first use Naive Bayes and see how accurately it performs. Then we'll try a Support Vector Machine model, and lastly a K-Nearest-Neighbors model.\n",
    "\n",
    "\n",
    "## Naive Bayes"
   ]
  },
  {
   "cell_type": "code",
   "execution_count": 167,
   "metadata": {},
   "outputs": [
    {
     "name": "stdout",
     "output_type": "stream",
     "text": [
      "2018-12-16 13:57:56.764973\n",
      "2018-12-16 13:57:57.005236\n"
     ]
    }
   ],
   "source": [
    "# Use a Naive Bayes Classifier to make predictions\n",
    "from sklearn.naive_bayes import MultinomialNB\n",
    "classifier = MultinomialNB()\n",
    "print(datetime.datetime.now())\n",
    "classifier.fit(train_counts, train_labels)\n",
    "predictions = classifier.predict(test_counts)\n",
    "print(datetime.datetime.now())"
   ]
  },
  {
   "cell_type": "markdown",
   "metadata": {},
   "source": [
    "### Evaluate the accuracy"
   ]
  },
  {
   "cell_type": "code",
   "execution_count": 164,
   "metadata": {},
   "outputs": [
    {
     "name": "stdout",
     "output_type": "stream",
     "text": [
      "0.731442869057548\n"
     ]
    }
   ],
   "source": [
    "from sklearn.metrics import accuracy_score\n",
    "test_score = accuracy_score(test_labels, predictions)\n",
    "print(test_score)"
   ]
  },
  {
   "cell_type": "markdown",
   "metadata": {},
   "source": [
    "This indicates that the Naive Bayes classifier was correct about 76% of the time."
   ]
  },
  {
   "cell_type": "markdown",
   "metadata": {},
   "source": [
    "### Show a confusion matrix\n",
    "This allows us to know correct/incorrect male and female counts. The following table layout demonstrates:\n",
    "\n",
    "|     -     | M predicted | F predicted |\n",
    "|-----------|-----------|-----------|\n",
    "|Actual M's |                      |\n",
    "|Actual F's |           |           |\n",
    "\n"
   ]
  },
  {
   "cell_type": "code",
   "execution_count": 169,
   "metadata": {},
   "outputs": [
    {
     "name": "stdout",
     "output_type": "stream",
     "text": [
      "confusion matrix:  [[5505 1765]\n",
      " [1122 3598]]\n",
      "accuracy:  0.7592160133444538\n",
      "precision:  0.7572214580467675\n",
      "recall:  0.8306926210955183\n",
      "f1:  0.7922573217241131\n"
     ]
    }
   ],
   "source": [
    "from sklearn.metrics import confusion_matrix\n",
    "def print_metrics(c_matrix):\n",
    "    accuracy = (c_matrix[0][0] + c_matrix[1][1]) / (c_matrix[0][0] + c_matrix[0][1] + c_matrix[1][0] + c_matrix[1][1])\n",
    "    precision = c_matrix[0][0] / (c_matrix[0][0] + c_matrix[0][1])\n",
    "    recall = c_matrix[0][0] / (c_matrix[0][0] + c_matrix[1][0])\n",
    "    f1 = 2*precision*recall/(precision+recall)\n",
    "    print(\"confusion matrix: \", c_matrix)\n",
    "    print(\"accuracy: \", accuracy)\n",
    "    print(\"precision: \", precision)\n",
    "    print(\"recall: \", recall)\n",
    "    print(\"f1: \", f1)\n",
    "\n",
    "c_matrix = confusion_matrix(test_labels, predictions)\n",
    "print_metrics(c_matrix)"
   ]
  },
  {
   "cell_type": "markdown",
   "metadata": {},
   "source": [
    "Ability to guess males accurately: 78.5%\n",
    "\n",
    "Ability to guess females accurately: 77.0%"
   ]
  },
  {
   "cell_type": "markdown",
   "metadata": {},
   "source": [
    "## Support Vector Machine\n",
    "\n",
    "(takes over 1 hour to execute)"
   ]
  },
  {
   "cell_type": "code",
   "execution_count": 104,
   "metadata": {},
   "outputs": [
    {
     "name": "stderr",
     "output_type": "stream",
     "text": [
      "/home/sbosshardt/.local/lib/python3.6/site-packages/sklearn/svm/base.py:196: FutureWarning: The default value of gamma will change from 'auto' to 'scale' in version 0.22 to account better for unscaled features. Set gamma explicitly to 'auto' or 'scale' to avoid this warning.\n",
      "  \"avoid this warning.\", FutureWarning)\n"
     ]
    },
    {
     "name": "stdout",
     "output_type": "stream",
     "text": [
      "0.6195162635529609\n"
     ]
    }
   ],
   "source": [
    "from sklearn.svm import SVC\n",
    "classifier = SVC(kernel='rbf', random_state=random_state, gamma='auto')\n",
    "print(datetime.datetime.now())\n",
    "classifier.fit(train_counts, train_labels)\n",
    "predictions = classifier.predict(test_counts)\n",
    "print(datetime.datetime.now())\n",
    "test_score = accuracy_score(test_labels, predictions)\n",
    "print(test_score)"
   ]
  },
  {
   "cell_type": "code",
   "execution_count": null,
   "metadata": {},
   "outputs": [],
   "source": [
    "c_matrix = confusion_matrix(test_labels, predictions)\n",
    "print_metrics(c_matrix)"
   ]
  },
  {
   "cell_type": "code",
   "execution_count": 114,
   "metadata": {},
   "outputs": [
    {
     "name": "stdout",
     "output_type": "stream",
     "text": [
      "2018-12-13 20:36:21.695137\n"
     ]
    }
   ],
   "source": [
    "import datetime\n",
    "print(datetime.datetime.now())"
   ]
  },
  {
   "cell_type": "markdown",
   "metadata": {},
   "source": [
    "## K-Nearest Neighbors (Classifier)"
   ]
  },
  {
   "cell_type": "code",
   "execution_count": 176,
   "metadata": {},
   "outputs": [
    {
     "name": "stdout",
     "output_type": "stream",
     "text": [
      "2018-12-16 17:17:23.902065\n",
      "2018-12-16 17:19:44.113610\n",
      "confusion matrix:  [[6012 1258]\n",
      " [2880 1840]]\n",
      "accuracy:  0.6548790658882402\n",
      "precision:  0.8269601100412655\n",
      "recall:  0.6761133603238867\n",
      "f1:  0.743967330775894\n"
     ]
    }
   ],
   "source": [
    "from sklearn.neighbors import KNeighborsClassifier\n",
    "\n",
    "print(datetime.datetime.now())\n",
    "\n",
    "#scores = {}\n",
    "#n_neighbors_to_try = [1,2,3,4,5,6,7,8,9,10,15,20,25,30,35,40,45,50,75,100,125,150,175,200]\n",
    "#n_neighbors_to_try = [225,250,275,300,325,350,375,400,500,600,700,800,900,1000]\n",
    "#n_neighbors_to_try = [1200,1400,1600,1800,2000,2200,2400,2600,2800,3000]\n",
    "n_neighbors_to_try = [500]\n",
    "for n_neighbors in n_neighbors_to_try:\n",
    "    classifier = KNeighborsClassifier(n_neighbors=n_neighbors)\n",
    "    classifier.fit(train_counts, train_labels)\n",
    "    predictions = classifier.predict(test_counts)\n",
    "    scores[n_neighbors] = accuracy_score(test_labels, predictions)\n",
    "\n",
    "print(datetime.datetime.now())\n",
    "c_matrix = confusion_matrix(test_labels, predictions)\n",
    "print_metrics(c_matrix)\n"
   ]
  },
  {
   "cell_type": "code",
   "execution_count": 121,
   "metadata": {},
   "outputs": [
    {
     "data": {
      "text/plain": [
       "[<matplotlib.lines.Line2D at 0x7f7d9db13eb8>]"
      ]
     },
     "execution_count": 121,
     "metadata": {},
     "output_type": "execute_result"
    },
    {
     "data": {
      "image/png": "[encoded data removed]",
      "text/plain": [
       "<Figure size 432x288 with 1 Axes>"
      ]
     },
     "metadata": {
      "needs_background": "light"
     },
     "output_type": "display_data"
    }
   ],
   "source": [
    "from matplotlib import pyplot as plt\n",
    "plt.plot(scores.keys(), scores.values())"
   ]
  },
  {
   "cell_type": "markdown",
   "metadata": {},
   "source": [
    "# Regression\n",
    "\n",
    "We'll start off with multiple linear regression, followed by K-Nearest Neighbors.\n",
    "\n",
    "## Multiple Linear Regression\n",
    "We're predicting the person's sex, which is a classification task. That's not to say that we can't use regression to perform classification.\n",
    "\n",
    "The sex column has two labels: 'm' and 'f'. We can map 'm' to 0 and 'f' to 1. We can round the predictions. For example, if a prediction is 0.2, we'll round to 0 (which classifies the result as male).\n",
    "\n",
    "Observation: This model is multithreaded. During the computation, my computer's 8 CPU cores are at 100% usage. The classification processes I tried had only one thread at 100% usage, and most cores idle. Still, it takes a long time to fit the training set.\n"
   ]
  },
  {
   "cell_type": "code",
   "execution_count": 124,
   "metadata": {},
   "outputs": [],
   "source": [
    "from sklearn.linear_model import LinearRegression\n",
    "mlr = LinearRegression()\n",
    "mlr.fit(train_counts, train_labels)\n",
    "predictions = mlr.predict(test_counts)"
   ]
  },
  {
   "cell_type": "code",
   "execution_count": 132,
   "metadata": {},
   "outputs": [
    {
     "name": "stdout",
     "output_type": "stream",
     "text": [
      "0.5271059216013344\n"
     ]
    },
    {
     "data": {
      "text/plain": [
       "array([[3912, 3358],\n",
       "       [2312, 2408]])"
      ]
     },
     "execution_count": 132,
     "metadata": {},
     "output_type": "execute_result"
    }
   ],
   "source": [
    "classified_predictions = [0 if prediction < 0.5 else 1 for prediction in predictions]\n",
    "test_score = accuracy_score(test_labels, classified_predictions)\n",
    "print(test_score)\n",
    "confusion_matrix(test_labels, classified_predictions)"
   ]
  },
  {
   "cell_type": "code",
   "execution_count": 170,
   "metadata": {},
   "outputs": [
    {
     "name": "stdout",
     "output_type": "stream",
     "text": [
      "confusion matrix:  [[3912, 3358], [2312, 2408]]\n",
      "accuracy:  0.5271059216013344\n",
      "precision:  0.538101788170564\n",
      "recall:  0.62853470437018\n",
      "f1:  0.5798132503334816\n"
     ]
    }
   ],
   "source": [
    "# use the confusion matrix generated from an earlier run - avoid waiting over an hour.\n",
    "c_matrix = [[3912, 3358], [2312, 2408]]\n",
    "print_metrics(c_matrix)\n",
    "\n"
   ]
  },
  {
   "cell_type": "markdown",
   "metadata": {},
   "source": [
    "## K-Nearest Neighbors Regressor"
   ]
  },
  {
   "cell_type": "code",
   "execution_count": 172,
   "metadata": {},
   "outputs": [
    {
     "name": "stdout",
     "output_type": "stream",
     "text": [
      "2018-12-16 17:10:39.786774\n",
      "2018-12-16 17:12:58.188837\n"
     ]
    }
   ],
   "source": [
    "print(datetime.datetime.now())\n",
    "from sklearn.neighbors import KNeighborsRegressor\n",
    "regressor = KNeighborsRegressor(n_neighbors=500, weights=\"distance\")\n",
    "regressor.fit(train_counts, train_labels)\n",
    "predictions = regressor.predict(test_counts)\n",
    "print(datetime.datetime.now())"
   ]
  },
  {
   "cell_type": "code",
   "execution_count": 173,
   "metadata": {},
   "outputs": [
    {
     "name": "stdout",
     "output_type": "stream",
     "text": [
      "confusion matrix:  [[5981 1289]\n",
      " [2853 1867]]\n",
      "accuracy:  0.6545454545454545\n",
      "precision:  0.8226960110041266\n",
      "recall:  0.6770432420194702\n",
      "f1:  0.7427968206656732\n"
     ]
    }
   ],
   "source": [
    "classified_predictions = [0 if prediction < 0.5 else 1 for prediction in predictions]\n",
    "test_score = accuracy_score(test_labels, classified_predictions)\n",
    "#print(test_score)\n",
    "c_matrix = confusion_matrix(test_labels, classified_predictions)\n",
    "print_metrics(c_matrix)"
   ]
  },
  {
   "cell_type": "code",
   "execution_count": null,
   "metadata": {},
   "outputs": [],
   "source": []
  },
  {
   "cell_type": "code",
   "execution_count": 174,
   "metadata": {},
   "outputs": [
    {
     "name": "stdout",
     "output_type": "stream",
     "text": [
      "2018-12-16 17:12:58.245259\n",
      "2018-12-16 17:15:17.378413  score:  0.6545454545454545\n",
      "2018-12-16 17:15:17.379510\n"
     ]
    }
   ],
   "source": [
    "from sklearn.neighbors import KNeighborsRegressor\n",
    "\n",
    "print(datetime.datetime.now())\n",
    "\n",
    "#scores = {}\n",
    "#n_neighbors_to_try = [1,2,3,4,5,6,7,8,9,10,15,20,25,30,35,40,45,50,75,100,125,150,175,200,225,250,275,300,325,350,375,400,500,600,700,800,900,1000,1200,1400,1600,1800,2000,2200,2400,2600,2800,3000]\n",
    "n_neighbors_to_try = [500]\n",
    "for n_neighbors in n_neighbors_to_try:\n",
    "    regressor = KNeighborsRegressor(n_neighbors=n_neighbors, weights=\"distance\")\n",
    "    regressor.fit(train_counts, train_labels)\n",
    "    predictions = regressor.predict(test_counts)\n",
    "    classified_predictions = [0 if prediction < 0.5 else 1 for prediction in predictions]\n",
    "    scores[n_neighbors] = accuracy_score(test_labels, classified_predictions)\n",
    "    print(datetime.datetime.now(), \" score: \", scores[n_neighbors])\n",
    "#print(scores)\n",
    "#print(confusion_matrix(test_labels, classified_predictions))\n",
    "print(datetime.datetime.now())"
   ]
  },
  {
   "cell_type": "code",
   "execution_count": 175,
   "metadata": {},
   "outputs": [
    {
     "name": "stdout",
     "output_type": "stream",
     "text": [
      "confusion matrix:  [[5981 1289]\n",
      " [2853 1867]]\n",
      "accuracy:  0.6545454545454545\n",
      "precision:  0.8226960110041266\n",
      "recall:  0.6770432420194702\n",
      "f1:  0.7427968206656732\n"
     ]
    },
    {
     "data": {
      "text/plain": [
       "[<matplotlib.lines.Line2D at 0x7f7dd34a7898>]"
      ]
     },
     "execution_count": 175,
     "metadata": {},
     "output_type": "execute_result"
    },
    {
     "data": {
      "image/png": "[encoded data removed]",
      "text/plain": [
       "<Figure size 432x288 with 1 Axes>"
      ]
     },
     "metadata": {
      "needs_background": "light"
     },
     "output_type": "display_data"
    }
   ],
   "source": [
    "c_matrix = confusion_matrix(test_labels, classified_predictions)\n",
    "print_metrics(c_matrix)\n",
    "\n",
    "from matplotlib import pyplot as plt\n",
    "plt.xlabel(\"num_neighbors\")\n",
    "plt.ylabel(\"Accuracy\")\n",
    "plt.plot(scores.keys(), scores.values())"
   ]
  },
  {
   "cell_type": "code",
   "execution_count": null,
   "metadata": {},
   "outputs": [],
   "source": []
  },
  {
   "cell_type": "code",
   "execution_count": null,
   "metadata": {},
   "outputs": [],
   "source": []
  },
  {
   "cell_type": "code",
   "execution_count": null,
   "metadata": {},
   "outputs": [],
   "source": []
  },
  {
   "cell_type": "code",
   "execution_count": 37,
   "metadata": {
    "scrolled": true
   },
   "outputs": [
    {
     "name": "stdout",
     "output_type": "stream",
     "text": [
      "35829\n",
      "24117\n",
      "12668996\n",
      "8814132\n"
     ]
    }
   ],
   "source": [
    "#sample_essay_text = df['essay0'].values[0]\n",
    "#print(sample_essay_text)\n",
    "essay_cols = ['essay0', 'essay1', 'essay2', 'essay3', 'essay4', 'essay5', 'essay6', 'essay7', 'essay8', 'essay9']\n",
    "\n",
    "demographics = ['sex']\n",
    "word_lists = {}\n",
    "for demographic in demographics:\n",
    "    word_lists[demographic] = {}\n",
    "    demog_values = df[demographic].unique()\n",
    "    for demog_value in demog_values:\n",
    "        word_lists[demographic][demog_value] = []\n",
    "        #essays = df[df[demographic] == demog_value][essay_cols].values[0]\n",
    "        #print(essays)\n",
    "        essays_list = df[df[demographic] == demog_value][essay_cols].values\n",
    "        print(len(essays_list))\n",
    "        for essays in essays_list:\n",
    "            word_list = get_essays_word_list(essays)\n",
    "            word_lists[demographic][demog_value] += word_list\n",
    "            \n",
    "\n",
    "print(len(word_lists['sex']['m']))\n",
    "print(len(word_lists['sex']['f']))\n"
   ]
  },
  {
   "cell_type": "markdown",
   "metadata": {},
   "source": [
    "# Approach\n",
    "1. Pre-process the data. (e.g. sanitising the text, tokenizing/counting/normalizing)\n",
    "2. Run train_test_split on the data (80% training / 20% testing)\n",
    "3. Use Naive Bayes and [Counter](https://docs.python.org/3/library/collections.html#collections.Counter) object"
   ]
  },
  {
   "cell_type": "markdown",
   "metadata": {},
   "source": [
    "# Pre-processing functions\n",
    "\n",
    "These functions parse and tokenize the text for later use."
   ]
  },
  {
   "cell_type": "code",
   "execution_count": 57,
   "metadata": {},
   "outputs": [
    {
     "name": "stdout",
     "output_type": "stream",
     "text": [
      "{'about': 0.21052631578947367, 'me': 0.2631578947368421, ':': 0.15789473684210525, 'i': 0.42105263157894735, 'would': 0.10526315789473684, 'love': 0.21052631578947367, 'to': 0.6842105263157895, 'think': 0.05263157894736842, 'that': 0.05263157894736842, 'was': 0.05263157894736842, 'some': 0.15789473684210525, 'kind': 0.05263157894736842, 'of': 0.3157894736842105, 'intellectual': 0.05263157894736842, 'either': 0.05263157894736842, 'the': 0.3157894736842105, 'dumbest': 0.05263157894736842, 'smart': 0.05263157894736842, 'guy': 0.10526315789473684, ',': 0.3684210526315789, 'or': 0.05263157894736842, 'smartest': 0.05263157894736842, 'dumb': 0.05263157894736842, '.': 1.0, \"can't\": 0.05263157894736842, 'say': 0.05263157894736842, 'can': 0.05263157894736842, 'tell': 0.05263157894736842, 'difference': 0.05263157894736842, 'talk': 0.05263157894736842, 'ideas': 0.05263157894736842, 'and': 0.3157894736842105, 'concepts': 0.05263157894736842, 'forge': 0.05263157894736842, 'odd': 0.05263157894736842, 'metaphors': 0.10526315789473684, 'instead': 0.05263157894736842, 'reciting': 0.05263157894736842, 'cliches': 0.05263157894736842, 'like': 0.05263157894736842, 'simularities': 0.05263157894736842, 'between': 0.05263157894736842, 'a': 0.3157894736842105, 'friend': 0.05263157894736842, \"mine's\": 0.05263157894736842, 'house': 0.05263157894736842, 'an': 0.05263157894736842, 'underwater': 0.05263157894736842, 'salt': 0.10526315789473684, 'mine': 0.05263157894736842, 'my': 0.15789473684210525, 'favorite': 0.10526315789473684, 'word': 0.05263157894736842, 'is': 0.05263157894736842, 'by': 0.05263157894736842, 'way': 0.10526315789473684, '(': 0.10526315789473684, 'weird': 0.05263157894736842, 'choice': 0.05263157894736842, 'know': 0.05263157894736842, ')': 0.10526315789473684, 'most': 0.05263157894736842, 'things': 0.05263157894736842, 'in': 0.10526315789473684, 'life': 0.10526315789473684, 'are': 0.05263157894736842, 'better': 0.10526315789473684, 'as': 0.05263157894736842, 'seek': 0.05263157894736842, 'make': 0.15789473684210525, 'myself': 0.05263157894736842, 'little': 0.05263157894736842, 'everyday': 0.05263157894736842, 'productively': 0.05263157894736842, 'lazy': 0.05263157894736842, 'got': 0.05263157894736842, 'tired': 0.05263157894736842, 'tying': 0.05263157894736842, 'shoes': 0.21052631578947367, 'considered': 0.05263157894736842, 'hiring': 0.05263157894736842, 'five': 0.05263157894736842, 'year': 0.05263157894736842, 'old': 0.05263157894736842, 'but': 0.10526315789473684, 'probably': 0.05263157894736842, 'have': 0.3157894736842105, 'tie': 0.05263157894736842, 'both': 0.05263157894736842, 'our': 0.05263157894736842, 'decided': 0.05263157894736842, 'only': 0.05263157894736842, 'wear': 0.05263157894736842, 'leather': 0.05263157894736842, 'dress': 0.05263157894736842, 'you': 0.42105263157894735, 'really': 0.15789473684210525, 'serious': 0.05263157894736842, 'deep': 0.05263157894736842, 'conversations': 0.05263157894736842, 'silly': 0.05263157894736842, 'stuff': 0.05263157894736842, 'be': 0.2631578947368421, 'willing': 0.05263157894736842, 'snap': 0.05263157894736842, 'out': 0.05263157894736842, 'light': 0.05263157894736842, 'hearted': 0.05263157894736842, 'rant': 0.05263157894736842, 'with': 0.15789473684210525, 'kiss': 0.05263157894736842, \"don't\": 0.05263157894736842, 'funny': 0.05263157894736842, 'able': 0.10526315789473684, 'laugh': 0.05263157894736842, 'should': 0.10526315789473684, 'bend': 0.05263157894736842, 'spoons': 0.05263157894736842, 'your': 0.05263157894736842, 'mind': 0.05263157894736842, 'telepathically': 0.05263157894736842, 'smile': 0.05263157894736842, 'while': 0.05263157894736842, 'am': 0.05263157894736842, 'still': 0.05263157894736842, 'at': 0.05263157894736842, 'work': 0.05263157894736842, 'cool': 0.05263157894736842, 'just': 0.05263157894736842, 'letting': 0.05263157894736842, 'wind': 0.05263157894736842, 'blow': 0.05263157894736842, 'extra': 0.05263157894736842, 'points': 0.05263157894736842, 'for': 0.05263157894736842, 'reading': 0.05263157894736842, 'all': 0.05263157894736842, 'this': 0.05263157894736842, 'guessing': 0.05263157894736842, 'video': 0.05263157894736842, 'game': 0.05263157894736842, 'no': 0.05263157894736842, 'hints': 0.05263157894736842, 'given': 0.05263157894736842, 'yet': 0.05263157894736842, 'lastly': 0.05263157894736842, 'good': 0.05263157894736842, 'attention': 0.05263157894736842, 'span.': 0.05263157894736842}\n"
     ]
    }
   ],
   "source": [
    "from collections import Counter\n",
    "import re\n",
    "\n",
    "# Get rid of unwanted string data. Leave punctuation intact, but space it\n",
    "# out in such a way that it won't interfere with word counts.\n",
    "def format_essay_text(essay_text):\n",
    "    # Replace <br /> with empty string\n",
    "    new_text = essay_text.replace(\"<br />\", \"\")\n",
    "    # Replace &amp; with &\n",
    "    new_text = new_text.replace(\"&amp;\", \"&\")\n",
    "    # Prepend space to punctuation characters that don't have a space\n",
    "    # in front of them, and that are not followed by a word character\n",
    "    # (e.g. leave \"can't\" alone)\n",
    "    new_text = re.sub(r'((?!= )[^ \\w](?=[^\\w]))', r' \\1', new_text)\n",
    "    # Handle words that start with an opening parenthesis\n",
    "    new_text = re.sub(r'( [(](?=\\w))', r'\\1 ', new_text)\n",
    "    return new_text\n",
    "\n",
    "# Given the (unformatted) essay text, run it through the formatter and\n",
    "# tokenize it. Get the counts in the form of floats: 0 < x <= 1.0\n",
    "def get_essay_text_frequencies(essay_text):\n",
    "    formatted_essay_text = format_essay_text(essay_text)\n",
    "    #print(essay_text)\n",
    "    #print(formatted_essay_text)\n",
    "    essay_tokens = formatted_essay_text.split()\n",
    "    counter_int = Counter(essay_tokens)\n",
    "    num_tokens = len(essay_tokens)\n",
    "    num_unique_tokens = len(counter_int)\n",
    "    most_frequent_token = next(iter(counter_int.most_common(1)))[0]\n",
    "    #print(\"most frequent token: \", most_frequent_token)\n",
    "    max_token_frequency = counter_int[most_frequent_token]\n",
    "    #print(\"max token frequency: \", max_token_frequency)\n",
    "    counter_normalized = {}\n",
    "    #print(counter)\n",
    "    for key in counter_int:\n",
    "        counter_normalized[key] = counter_int[key] / max_token_frequency\n",
    "    return counter_normalized\n",
    "\n",
    "\n",
    "sample_essay_text = df['essay0'].values[0]\n",
    "#modified_essay_text = format_essay_text(sample_essay_text)\n",
    "text_frequencies = get_essay_text_frequencies(sample_essay_text)\n",
    "print(text_frequencies)"
   ]
  },
  {
   "cell_type": "code",
   "execution_count": null,
   "metadata": {},
   "outputs": [],
   "source": []
  }
 ],
 "metadata": {
  "kernelspec": {
   "display_name": "Python 3",
   "language": "python",
   "name": "python3"
  },
  "language_info": {
   "codemirror_mode": {
    "name": "ipython",
    "version": 3
   },
   "file_extension": ".py",
   "mimetype": "text/x-python",
   "name": "python",
   "nbconvert_exporter": "python",
   "pygments_lexer": "ipython3",
   "version": "3.6.7"
  }
 },
 "nbformat": 4,
 "nbformat_minor": 2
}
